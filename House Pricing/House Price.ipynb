{
 "cells": [
  {
   "cell_type": "code",
   "execution_count": 2,
   "metadata": {},
   "outputs": [
    {
     "name": "stderr",
     "output_type": "stream",
     "text": [
      "/home/kizito/anaconda3/lib/python3.7/importlib/_bootstrap.py:219: RuntimeWarning: numpy.ufunc size changed, may indicate binary incompatibility. Expected 192 from C header, got 216 from PyObject\n",
      "  return f(*args, **kwds)\n"
     ]
    }
   ],
   "source": [
    "import pandas as pd\n",
    "import numpy as np\n",
    "from sklearn import preprocessing \n",
    "from sklearn.preprocessing import StandardScaler\n",
    "from sklearn.model_selection import train_test_split"
   ]
  },
  {
   "cell_type": "code",
   "execution_count": 135,
   "metadata": {},
   "outputs": [],
   "source": [
    "3 26 59"
   ]
  },
  {
   "cell_type": "code",
   "execution_count": 73,
   "metadata": {},
   "outputs": [],
   "source": [
    "train_df = pd.read_csv('train.csv')\n",
    "test_df = pd.read_csv('test.csv')"
   ]
  },
  {
   "cell_type": "code",
   "execution_count": 4,
   "metadata": {},
   "outputs": [
    {
     "name": "stderr",
     "output_type": "stream",
     "text": [
      "/home/kizito/anaconda3/lib/python3.7/importlib/_bootstrap.py:219: RuntimeWarning: numpy.ufunc size changed, may indicate binary incompatibility. Expected 192 from C header, got 216 from PyObject\n",
      "  return f(*args, **kwds)\n"
     ]
    }
   ],
   "source": [
    "import matplotlib.pyplot as plt\n",
    "import seaborn as sns"
   ]
  },
  {
   "cell_type": "code",
   "execution_count": 5,
   "metadata": {},
   "outputs": [
    {
     "data": {
      "text/html": [
       "<div>\n",
       "<style scoped>\n",
       "    .dataframe tbody tr th:only-of-type {\n",
       "        vertical-align: middle;\n",
       "    }\n",
       "\n",
       "    .dataframe tbody tr th {\n",
       "        vertical-align: top;\n",
       "    }\n",
       "\n",
       "    .dataframe thead th {\n",
       "        text-align: right;\n",
       "    }\n",
       "</style>\n",
       "<table border=\"1\" class=\"dataframe\">\n",
       "  <thead>\n",
       "    <tr style=\"text-align: right;\">\n",
       "      <th></th>\n",
       "      <th>Id</th>\n",
       "      <th>MSSubClass</th>\n",
       "      <th>MSZoning</th>\n",
       "      <th>LotFrontage</th>\n",
       "      <th>LotArea</th>\n",
       "      <th>Street</th>\n",
       "      <th>Alley</th>\n",
       "      <th>LotShape</th>\n",
       "      <th>LandContour</th>\n",
       "      <th>Utilities</th>\n",
       "      <th>...</th>\n",
       "      <th>PoolArea</th>\n",
       "      <th>PoolQC</th>\n",
       "      <th>Fence</th>\n",
       "      <th>MiscFeature</th>\n",
       "      <th>MiscVal</th>\n",
       "      <th>MoSold</th>\n",
       "      <th>YrSold</th>\n",
       "      <th>SaleType</th>\n",
       "      <th>SaleCondition</th>\n",
       "      <th>SalePrice</th>\n",
       "    </tr>\n",
       "  </thead>\n",
       "  <tbody>\n",
       "    <tr>\n",
       "      <th>0</th>\n",
       "      <td>1</td>\n",
       "      <td>60</td>\n",
       "      <td>RL</td>\n",
       "      <td>65.0</td>\n",
       "      <td>8450</td>\n",
       "      <td>Pave</td>\n",
       "      <td>NaN</td>\n",
       "      <td>Reg</td>\n",
       "      <td>Lvl</td>\n",
       "      <td>AllPub</td>\n",
       "      <td>...</td>\n",
       "      <td>0</td>\n",
       "      <td>NaN</td>\n",
       "      <td>NaN</td>\n",
       "      <td>NaN</td>\n",
       "      <td>0</td>\n",
       "      <td>2</td>\n",
       "      <td>2008</td>\n",
       "      <td>WD</td>\n",
       "      <td>Normal</td>\n",
       "      <td>208500</td>\n",
       "    </tr>\n",
       "    <tr>\n",
       "      <th>1</th>\n",
       "      <td>2</td>\n",
       "      <td>20</td>\n",
       "      <td>RL</td>\n",
       "      <td>80.0</td>\n",
       "      <td>9600</td>\n",
       "      <td>Pave</td>\n",
       "      <td>NaN</td>\n",
       "      <td>Reg</td>\n",
       "      <td>Lvl</td>\n",
       "      <td>AllPub</td>\n",
       "      <td>...</td>\n",
       "      <td>0</td>\n",
       "      <td>NaN</td>\n",
       "      <td>NaN</td>\n",
       "      <td>NaN</td>\n",
       "      <td>0</td>\n",
       "      <td>5</td>\n",
       "      <td>2007</td>\n",
       "      <td>WD</td>\n",
       "      <td>Normal</td>\n",
       "      <td>181500</td>\n",
       "    </tr>\n",
       "    <tr>\n",
       "      <th>2</th>\n",
       "      <td>3</td>\n",
       "      <td>60</td>\n",
       "      <td>RL</td>\n",
       "      <td>68.0</td>\n",
       "      <td>11250</td>\n",
       "      <td>Pave</td>\n",
       "      <td>NaN</td>\n",
       "      <td>IR1</td>\n",
       "      <td>Lvl</td>\n",
       "      <td>AllPub</td>\n",
       "      <td>...</td>\n",
       "      <td>0</td>\n",
       "      <td>NaN</td>\n",
       "      <td>NaN</td>\n",
       "      <td>NaN</td>\n",
       "      <td>0</td>\n",
       "      <td>9</td>\n",
       "      <td>2008</td>\n",
       "      <td>WD</td>\n",
       "      <td>Normal</td>\n",
       "      <td>223500</td>\n",
       "    </tr>\n",
       "    <tr>\n",
       "      <th>3</th>\n",
       "      <td>4</td>\n",
       "      <td>70</td>\n",
       "      <td>RL</td>\n",
       "      <td>60.0</td>\n",
       "      <td>9550</td>\n",
       "      <td>Pave</td>\n",
       "      <td>NaN</td>\n",
       "      <td>IR1</td>\n",
       "      <td>Lvl</td>\n",
       "      <td>AllPub</td>\n",
       "      <td>...</td>\n",
       "      <td>0</td>\n",
       "      <td>NaN</td>\n",
       "      <td>NaN</td>\n",
       "      <td>NaN</td>\n",
       "      <td>0</td>\n",
       "      <td>2</td>\n",
       "      <td>2006</td>\n",
       "      <td>WD</td>\n",
       "      <td>Abnorml</td>\n",
       "      <td>140000</td>\n",
       "    </tr>\n",
       "    <tr>\n",
       "      <th>4</th>\n",
       "      <td>5</td>\n",
       "      <td>60</td>\n",
       "      <td>RL</td>\n",
       "      <td>84.0</td>\n",
       "      <td>14260</td>\n",
       "      <td>Pave</td>\n",
       "      <td>NaN</td>\n",
       "      <td>IR1</td>\n",
       "      <td>Lvl</td>\n",
       "      <td>AllPub</td>\n",
       "      <td>...</td>\n",
       "      <td>0</td>\n",
       "      <td>NaN</td>\n",
       "      <td>NaN</td>\n",
       "      <td>NaN</td>\n",
       "      <td>0</td>\n",
       "      <td>12</td>\n",
       "      <td>2008</td>\n",
       "      <td>WD</td>\n",
       "      <td>Normal</td>\n",
       "      <td>250000</td>\n",
       "    </tr>\n",
       "  </tbody>\n",
       "</table>\n",
       "<p>5 rows × 81 columns</p>\n",
       "</div>"
      ],
      "text/plain": [
       "   Id  MSSubClass MSZoning  LotFrontage  LotArea Street Alley LotShape  \\\n",
       "0   1          60       RL         65.0     8450   Pave   NaN      Reg   \n",
       "1   2          20       RL         80.0     9600   Pave   NaN      Reg   \n",
       "2   3          60       RL         68.0    11250   Pave   NaN      IR1   \n",
       "3   4          70       RL         60.0     9550   Pave   NaN      IR1   \n",
       "4   5          60       RL         84.0    14260   Pave   NaN      IR1   \n",
       "\n",
       "  LandContour Utilities  ... PoolArea PoolQC Fence MiscFeature MiscVal MoSold  \\\n",
       "0         Lvl    AllPub  ...        0    NaN   NaN         NaN       0      2   \n",
       "1         Lvl    AllPub  ...        0    NaN   NaN         NaN       0      5   \n",
       "2         Lvl    AllPub  ...        0    NaN   NaN         NaN       0      9   \n",
       "3         Lvl    AllPub  ...        0    NaN   NaN         NaN       0      2   \n",
       "4         Lvl    AllPub  ...        0    NaN   NaN         NaN       0     12   \n",
       "\n",
       "  YrSold  SaleType  SaleCondition  SalePrice  \n",
       "0   2008        WD         Normal     208500  \n",
       "1   2007        WD         Normal     181500  \n",
       "2   2008        WD         Normal     223500  \n",
       "3   2006        WD        Abnorml     140000  \n",
       "4   2008        WD         Normal     250000  \n",
       "\n",
       "[5 rows x 81 columns]"
      ]
     },
     "execution_count": 5,
     "metadata": {},
     "output_type": "execute_result"
    }
   ],
   "source": [
    "train_df.head()"
   ]
  },
  {
   "cell_type": "code",
   "execution_count": 170,
   "metadata": {},
   "outputs": [
    {
     "name": "stdout",
     "output_type": "stream",
     "text": [
      "<class 'pandas.core.frame.DataFrame'>\n",
      "RangeIndex: 1460 entries, 0 to 1459\n",
      "Data columns (total 75 columns):\n",
      " #   Column         Non-Null Count  Dtype\n",
      "---  ------         --------------  -----\n",
      " 0   MSSubClass     1460 non-null   int64\n",
      " 1   MSZoning       1460 non-null   int64\n",
      " 2   LotFrontage    1460 non-null   int64\n",
      " 3   LotArea        1460 non-null   int64\n",
      " 4   Street         1460 non-null   int64\n",
      " 5   LotShape       1460 non-null   int64\n",
      " 6   LandContour    1460 non-null   int64\n",
      " 7   Utilities      1460 non-null   int64\n",
      " 8   LotConfig      1460 non-null   int64\n",
      " 9   LandSlope      1460 non-null   int64\n",
      " 10  Neighborhood   1460 non-null   int64\n",
      " 11  Condition1     1460 non-null   int64\n",
      " 12  Condition2     1460 non-null   int64\n",
      " 13  BldgType       1460 non-null   int64\n",
      " 14  HouseStyle     1460 non-null   int64\n",
      " 15  OverallQual    1460 non-null   int64\n",
      " 16  OverallCond    1460 non-null   int64\n",
      " 17  YearBuilt      1460 non-null   int64\n",
      " 18  YearRemodAdd   1460 non-null   int64\n",
      " 19  RoofStyle      1460 non-null   int64\n",
      " 20  RoofMatl       1460 non-null   int64\n",
      " 21  Exterior1st    1460 non-null   int64\n",
      " 22  Exterior2nd    1460 non-null   int64\n",
      " 23  MasVnrType     1460 non-null   int64\n",
      " 24  MasVnrArea     1460 non-null   int64\n",
      " 25  ExterQual      1460 non-null   int64\n",
      " 26  ExterCond      1460 non-null   int64\n",
      " 27  Foundation     1460 non-null   int64\n",
      " 28  BsmtQual       1460 non-null   int64\n",
      " 29  BsmtCond       1460 non-null   int64\n",
      " 30  BsmtExposure   1460 non-null   int64\n",
      " 31  BsmtFinType1   1460 non-null   int64\n",
      " 32  BsmtFinSF1     1460 non-null   int64\n",
      " 33  BsmtFinType2   1460 non-null   int64\n",
      " 34  BsmtFinSF2     1460 non-null   int64\n",
      " 35  BsmtUnfSF      1460 non-null   int64\n",
      " 36  TotalBsmtSF    1460 non-null   int64\n",
      " 37  Heating        1460 non-null   int64\n",
      " 38  HeatingQC      1460 non-null   int64\n",
      " 39  CentralAir     1460 non-null   int64\n",
      " 40  Electrical     1460 non-null   int64\n",
      " 41  1stFlrSF       1460 non-null   int64\n",
      " 42  2ndFlrSF       1460 non-null   int64\n",
      " 43  LowQualFinSF   1460 non-null   int64\n",
      " 44  GrLivArea      1460 non-null   int64\n",
      " 45  BsmtFullBath   1460 non-null   int64\n",
      " 46  BsmtHalfBath   1460 non-null   int64\n",
      " 47  FullBath       1460 non-null   int64\n",
      " 48  HalfBath       1460 non-null   int64\n",
      " 49  BedroomAbvGr   1460 non-null   int64\n",
      " 50  KitchenAbvGr   1460 non-null   int64\n",
      " 51  KitchenQual    1460 non-null   int64\n",
      " 52  TotRmsAbvGrd   1460 non-null   int64\n",
      " 53  Functional     1460 non-null   int64\n",
      " 54  Fireplaces     1460 non-null   int64\n",
      " 55  GarageType     1460 non-null   int64\n",
      " 56  GarageYrBlt    1460 non-null   int64\n",
      " 57  GarageFinish   1460 non-null   int64\n",
      " 58  GarageCars     1460 non-null   int64\n",
      " 59  GarageArea     1460 non-null   int64\n",
      " 60  GarageQual     1460 non-null   int64\n",
      " 61  GarageCond     1460 non-null   int64\n",
      " 62  PavedDrive     1460 non-null   int64\n",
      " 63  WoodDeckSF     1460 non-null   int64\n",
      " 64  OpenPorchSF    1460 non-null   int64\n",
      " 65  EnclosedPorch  1460 non-null   int64\n",
      " 66  3SsnPorch      1460 non-null   int64\n",
      " 67  ScreenPorch    1460 non-null   int64\n",
      " 68  PoolArea       1460 non-null   int64\n",
      " 69  MiscVal        1460 non-null   int64\n",
      " 70  MoSold         1460 non-null   int64\n",
      " 71  YrSold         1460 non-null   int64\n",
      " 72  SaleType       1460 non-null   int64\n",
      " 73  SaleCondition  1460 non-null   int64\n",
      " 74  SalePrice      1460 non-null   int64\n",
      "dtypes: int64(75)\n",
      "memory usage: 855.6 KB\n"
     ]
    }
   ],
   "source": [
    " train_df.info()\n",
    "# test_df.info()"
   ]
  },
  {
   "cell_type": "code",
   "execution_count": 89,
   "metadata": {},
   "outputs": [
    {
     "name": "stdout",
     "output_type": "stream",
     "text": [
      "Columns and number of missing values in Train data\n",
      "\n",
      "*******************************************************\n",
      "Columns and number of missing values in Test data\n",
      "\n"
     ]
    }
   ],
   "source": [
    "# print all the columns with null values\n",
    "train_null_columns = []\n",
    "test_null_columns = []\n",
    "train_cols = train_df.columns\n",
    "test_cols = test_df.columns\n",
    "print('Columns and number of missing values in Train data\\n')\n",
    "for col in train_cols:\n",
    "    if train_df[col].isnull().sum() > 0:\n",
    "        train_null_columns.append(col)\n",
    "        print(f\"{col}: {train_df[col].isnull().sum()}\")\n",
    "print('*******************************************************')\n",
    "print('Columns and number of missing values in Test data\\n')\n",
    "for col in test_cols:\n",
    "    if test_df[col].isnull().sum() > 0:\n",
    "        test_null_columns.append(col)\n",
    "        print(f\"{col}: {test_df[col].isnull().sum()}\")"
   ]
  },
  {
   "cell_type": "code",
   "execution_count": 76,
   "metadata": {},
   "outputs": [],
   "source": [
    "# drop columns with over 50% missing data\n",
    "train_df = train_df.drop(['Alley','FireplaceQu','PoolQC','Fence','MiscFeature'],axis=1)\n",
    "test_df = test_df.drop(['Alley','FireplaceQu','PoolQC','Fence','MiscFeature'],axis=1)"
   ]
  },
  {
   "cell_type": "code",
   "execution_count": 104,
   "metadata": {},
   "outputs": [
    {
     "data": {
      "text/plain": [
       "<matplotlib.axes._subplots.AxesSubplot at 0x7f00815a9b10>"
      ]
     },
     "execution_count": 104,
     "metadata": {},
     "output_type": "execute_result"
    },
    {
     "data": {
      "image/png": "[encoded data removed]",
      "text/plain": [
       "<Figure size 698.4x451.44 with 2 Axes>"
      ]
     },
     "metadata": {},
     "output_type": "display_data"
    }
   ],
   "source": [
    "# sns.set(rc={'figure.figsize':(9.7,6.27)})\n",
    "# sns.heatmap(train_df.isna())"
   ]
  },
  {
   "cell_type": "code",
   "execution_count": 80,
   "metadata": {},
   "outputs": [],
   "source": [
    "def fill_data(dataset,column):\n",
    "    mean = dataset[column].mean()\n",
    "    std = dataset[column].std()\n",
    "    is_null = dataset[column].isnull().sum()\n",
    "    # compute random numbers between the mean, std and is_null\n",
    "    rand_num = np.random.randint(mean - std, mean + std, size = is_null)\n",
    "    # fill NaN values in column with random values generated\n",
    "    col_slice = dataset[column].copy()\n",
    "    col_slice[np.isnan(col_slice)] = rand_num\n",
    "    dataset[column] = col_slice\n",
    "    dataset[column] = dataset[column].astype(int)"
   ]
  },
  {
   "cell_type": "code",
   "execution_count": 84,
   "metadata": {},
   "outputs": [],
   "source": [
    "fill_data(dataset=train_df,column='LotFrontage')\n",
    "fill_data(dataset=train_df,column='MasVnrArea')\n",
    "fill_data(dataset=train_df,column='GarageYrBlt')"
   ]
  },
  {
   "cell_type": "code",
   "execution_count": 85,
   "metadata": {},
   "outputs": [],
   "source": [
    "fill_data(dataset=test_df,column='MasVnrArea')\n",
    "fill_data(dataset=test_df,column='BsmtFinSF1')\n",
    "fill_data(dataset=test_df,column='BsmtFinSF2')\n",
    "fill_data(dataset=test_df,column='BsmtUnfSF')\n",
    "fill_data(dataset=test_df,column='TotalBsmtSF')\n",
    "# fill_data(dataset=test_df,column='BsmtFullBath')\n",
    "fill_data(dataset=test_df,column='GarageYrBlt')\n",
    "fill_data(dataset=test_df,column='GarageCars')\n",
    "fill_data(dataset=test_df,column='GarageArea')\n"
   ]
  },
  {
   "cell_type": "code",
   "execution_count": 88,
   "metadata": {},
   "outputs": [],
   "source": [
    "# train_df['MasVnrType'].value_counts()\n",
    "# train_df['MasVnrType'] = train_df['MasVnrType'].fillna('None')\n",
    "# train_df['BsmtQual'].value_counts()\n",
    "# train_df['BsmtQual'] = train_df['BsmtQual'].fillna('TA')\n",
    "# train_df['BsmtCond'].value_counts()\n",
    "# train_df['BsmtCond'] = train_df['BsmtQual'].fillna('TA')\n",
    "# train_df['BsmtExposure'].value_counts()\n",
    "# train_df['BsmtExposure'] = train_df['BsmtExposure'].fillna('No')\n",
    "# train_df['BsmtFinType1'].value_counts()\n",
    "# train_df['BsmtFinType1'] = train_df['BsmtFinType1'].fillna('Unf')\n",
    "# train_df['BsmtFinType2'].value_counts()\n",
    "# train_df['BsmtFinType2'] = train_df['BsmtFinType2'].fillna('Unf')\n",
    "# train_df['Electrical'].value_counts()\n",
    "# train_df['Electrical'] = train_df['Electrical'].fillna('SBrkr')\n",
    "# train_df['GarageType'].value_counts()\n",
    "# train_df['GarageType'] = train_df['GarageType'].fillna('Attchd')\n",
    "# train_df['GarageFinish'].value_counts()\n",
    "# train_df['GarageFinish'] = train_df['GarageFinish'].fillna('Unf')\n",
    "# train_df['GarageQual'].value_counts()\n",
    "# train_df['GarageQual'] = train_df['GarageQual'].fillna('TA')\n",
    "# train_df['GarageCond'].value_counts()\n",
    "# train_df['GarageCond'] = train_df['GarageCond'].fillna('TA')\n",
    "\n",
    "for cols in train_null_columns:\n",
    "    train_df[cols] = train_df[cols].fillna(train_df[cols].value_counts().idxmax())\n",
    "    \n",
    "for cols in test_null_columns:\n",
    "    test_df[cols] = test_df[cols].fillna(test_df[cols].value_counts().idxmax())\n"
   ]
  },
  {
   "cell_type": "code",
   "execution_count": 93,
   "metadata": {
    "slideshow": {
     "slide_type": "slide"
    }
   },
   "outputs": [
    {
     "data": {
      "text/plain": [
       "([<matplotlib.patches.Wedge at 0x7ff62c5ec510>,\n",
       "  <matplotlib.patches.Wedge at 0x7ff62c5ce1d0>,\n",
       "  <matplotlib.patches.Wedge at 0x7ff62c5cec50>,\n",
       "  <matplotlib.patches.Wedge at 0x7ff62c5ce3d0>,\n",
       "  <matplotlib.patches.Wedge at 0x7ff62c5bcfd0>,\n",
       "  <matplotlib.patches.Wedge at 0x7ff62c5bc350>],\n",
       " [Text(-1.3946609256342648, 0.8817147512143462, 'Normal'),\n",
       "  Text(1.07832311367538, -1.248887209684459, 'Abnorml'),\n",
       "  Text(1.5369893806978698, -0.6001363541912615, 'Partial'),\n",
       "  Text(1.6396818509734659, -0.1842374217910926, 'AdjLand'),\n",
       "  Text(1.6484722872413993, -0.07098674662998801, 'Alloca'),\n",
       "  Text(1.6499388819984244, -0.014201608000134978, 'Family')])"
      ]
     },
     "execution_count": 93,
     "metadata": {},
     "output_type": "execute_result"
    },
    {
     "data": {
      "image/png": "[encoded data removed]",
      "text/plain": [
       "<Figure size 432x288 with 1 Axes>"
      ]
     },
     "metadata": {},
     "output_type": "display_data"
    }
   ],
   "source": [
    "label = train_df['SaleCondition'].unique()\n",
    "plt.pie(train_df['SaleCondition'].value_counts(),labels=label,radius=1.5)"
   ]
  },
  {
   "cell_type": "code",
   "execution_count": 94,
   "metadata": {
    "scrolled": true
   },
   "outputs": [
    {
     "data": {
      "text/plain": [
       "([<matplotlib.patches.Wedge at 0x7ff62bf27310>,\n",
       "  <matplotlib.patches.Wedge at 0x7ff62bf27d10>,\n",
       "  <matplotlib.patches.Wedge at 0x7ff62bf27c50>,\n",
       "  <matplotlib.patches.Wedge at 0x7ff62bf27a50>,\n",
       "  <matplotlib.patches.Wedge at 0x7ff62c489b10>,\n",
       "  <matplotlib.patches.Wedge at 0x7ff62c489310>],\n",
       " [Text(-1.4074591788702464, 0.8611380027695285, 'Normal'),\n",
       "  Text(1.10159880519471, -1.2284054999850773, 'Abnorml'),\n",
       "  Text(1.5262639247656076, -0.6269118215180539, 'Partial'),\n",
       "  Text(1.6333658400449471, -0.23370073293480442, 'AdjLand'),\n",
       "  Text(1.647002012281685, -0.09942017672525079, 'Alloca'),\n",
       "  Text(1.649755195060332, -0.028421758767655892, 'Family')])"
      ]
     },
     "execution_count": 94,
     "metadata": {},
     "output_type": "execute_result"
    },
    {
     "data": {
      "image/png": "[encoded data removed]",
      "text/plain": [
       "<Figure size 432x288 with 1 Axes>"
      ]
     },
     "metadata": {},
     "output_type": "display_data"
    }
   ],
   "source": [
    "plt.pie(test_df['SaleCondition'].value_counts(),labels=label,radius=1.5)"
   ]
  },
  {
   "cell_type": "code",
   "execution_count": 95,
   "metadata": {},
   "outputs": [],
   "source": [
    "label_encoder = preprocessing.LabelEncoder()"
   ]
  },
  {
   "cell_type": "code",
   "execution_count": 96,
   "metadata": {},
   "outputs": [],
   "source": [
    "obj_col = []\n",
    "for colu in train_df:\n",
    "    if train_df[colu].dtypes == 'object':\n",
    "        obj_col.append(colu)"
   ]
  },
  {
   "cell_type": "code",
   "execution_count": 97,
   "metadata": {},
   "outputs": [],
   "source": [
    "for c in obj_col:\n",
    "    train_df[c] = label_encoder.fit_transform(train_df[c])"
   ]
  },
  {
   "cell_type": "code",
   "execution_count": 169,
   "metadata": {},
   "outputs": [
    {
     "data": {
      "text/html": [
       "<div>\n",
       "<style scoped>\n",
       "    .dataframe tbody tr th:only-of-type {\n",
       "        vertical-align: middle;\n",
       "    }\n",
       "\n",
       "    .dataframe tbody tr th {\n",
       "        vertical-align: top;\n",
       "    }\n",
       "\n",
       "    .dataframe thead th {\n",
       "        text-align: right;\n",
       "    }\n",
       "</style>\n",
       "<table border=\"1\" class=\"dataframe\">\n",
       "  <thead>\n",
       "    <tr style=\"text-align: right;\">\n",
       "      <th></th>\n",
       "      <th>MSSubClass</th>\n",
       "      <th>MSZoning</th>\n",
       "      <th>LotFrontage</th>\n",
       "      <th>LotArea</th>\n",
       "      <th>Street</th>\n",
       "      <th>LotShape</th>\n",
       "      <th>LandContour</th>\n",
       "      <th>Utilities</th>\n",
       "      <th>LotConfig</th>\n",
       "      <th>LandSlope</th>\n",
       "      <th>...</th>\n",
       "      <th>EnclosedPorch</th>\n",
       "      <th>3SsnPorch</th>\n",
       "      <th>ScreenPorch</th>\n",
       "      <th>PoolArea</th>\n",
       "      <th>MiscVal</th>\n",
       "      <th>MoSold</th>\n",
       "      <th>YrSold</th>\n",
       "      <th>SaleType</th>\n",
       "      <th>SaleCondition</th>\n",
       "      <th>SalePrice</th>\n",
       "    </tr>\n",
       "  </thead>\n",
       "  <tbody>\n",
       "    <tr>\n",
       "      <th>0</th>\n",
       "      <td>60</td>\n",
       "      <td>3</td>\n",
       "      <td>65</td>\n",
       "      <td>8450</td>\n",
       "      <td>1</td>\n",
       "      <td>3</td>\n",
       "      <td>3</td>\n",
       "      <td>0</td>\n",
       "      <td>4</td>\n",
       "      <td>0</td>\n",
       "      <td>...</td>\n",
       "      <td>0</td>\n",
       "      <td>0</td>\n",
       "      <td>0</td>\n",
       "      <td>0</td>\n",
       "      <td>0</td>\n",
       "      <td>2</td>\n",
       "      <td>2008</td>\n",
       "      <td>8</td>\n",
       "      <td>4</td>\n",
       "      <td>208500</td>\n",
       "    </tr>\n",
       "    <tr>\n",
       "      <th>1</th>\n",
       "      <td>20</td>\n",
       "      <td>3</td>\n",
       "      <td>80</td>\n",
       "      <td>9600</td>\n",
       "      <td>1</td>\n",
       "      <td>3</td>\n",
       "      <td>3</td>\n",
       "      <td>0</td>\n",
       "      <td>2</td>\n",
       "      <td>0</td>\n",
       "      <td>...</td>\n",
       "      <td>0</td>\n",
       "      <td>0</td>\n",
       "      <td>0</td>\n",
       "      <td>0</td>\n",
       "      <td>0</td>\n",
       "      <td>5</td>\n",
       "      <td>2007</td>\n",
       "      <td>8</td>\n",
       "      <td>4</td>\n",
       "      <td>181500</td>\n",
       "    </tr>\n",
       "    <tr>\n",
       "      <th>2</th>\n",
       "      <td>60</td>\n",
       "      <td>3</td>\n",
       "      <td>68</td>\n",
       "      <td>11250</td>\n",
       "      <td>1</td>\n",
       "      <td>0</td>\n",
       "      <td>3</td>\n",
       "      <td>0</td>\n",
       "      <td>4</td>\n",
       "      <td>0</td>\n",
       "      <td>...</td>\n",
       "      <td>0</td>\n",
       "      <td>0</td>\n",
       "      <td>0</td>\n",
       "      <td>0</td>\n",
       "      <td>0</td>\n",
       "      <td>9</td>\n",
       "      <td>2008</td>\n",
       "      <td>8</td>\n",
       "      <td>4</td>\n",
       "      <td>223500</td>\n",
       "    </tr>\n",
       "    <tr>\n",
       "      <th>3</th>\n",
       "      <td>70</td>\n",
       "      <td>3</td>\n",
       "      <td>60</td>\n",
       "      <td>9550</td>\n",
       "      <td>1</td>\n",
       "      <td>0</td>\n",
       "      <td>3</td>\n",
       "      <td>0</td>\n",
       "      <td>0</td>\n",
       "      <td>0</td>\n",
       "      <td>...</td>\n",
       "      <td>272</td>\n",
       "      <td>0</td>\n",
       "      <td>0</td>\n",
       "      <td>0</td>\n",
       "      <td>0</td>\n",
       "      <td>2</td>\n",
       "      <td>2006</td>\n",
       "      <td>8</td>\n",
       "      <td>0</td>\n",
       "      <td>140000</td>\n",
       "    </tr>\n",
       "    <tr>\n",
       "      <th>4</th>\n",
       "      <td>60</td>\n",
       "      <td>3</td>\n",
       "      <td>84</td>\n",
       "      <td>14260</td>\n",
       "      <td>1</td>\n",
       "      <td>0</td>\n",
       "      <td>3</td>\n",
       "      <td>0</td>\n",
       "      <td>2</td>\n",
       "      <td>0</td>\n",
       "      <td>...</td>\n",
       "      <td>0</td>\n",
       "      <td>0</td>\n",
       "      <td>0</td>\n",
       "      <td>0</td>\n",
       "      <td>0</td>\n",
       "      <td>12</td>\n",
       "      <td>2008</td>\n",
       "      <td>8</td>\n",
       "      <td>4</td>\n",
       "      <td>250000</td>\n",
       "    </tr>\n",
       "  </tbody>\n",
       "</table>\n",
       "<p>5 rows × 75 columns</p>\n",
       "</div>"
      ],
      "text/plain": [
       "   MSSubClass  MSZoning  LotFrontage  LotArea  Street  LotShape  LandContour  \\\n",
       "0          60         3           65     8450       1         3            3   \n",
       "1          20         3           80     9600       1         3            3   \n",
       "2          60         3           68    11250       1         0            3   \n",
       "3          70         3           60     9550       1         0            3   \n",
       "4          60         3           84    14260       1         0            3   \n",
       "\n",
       "   Utilities  LotConfig  LandSlope  ...  EnclosedPorch  3SsnPorch  \\\n",
       "0          0          4          0  ...              0          0   \n",
       "1          0          2          0  ...              0          0   \n",
       "2          0          4          0  ...              0          0   \n",
       "3          0          0          0  ...            272          0   \n",
       "4          0          2          0  ...              0          0   \n",
       "\n",
       "   ScreenPorch  PoolArea  MiscVal  MoSold  YrSold  SaleType  SaleCondition  \\\n",
       "0            0         0        0       2    2008         8              4   \n",
       "1            0         0        0       5    2007         8              4   \n",
       "2            0         0        0       9    2008         8              4   \n",
       "3            0         0        0       2    2006         8              0   \n",
       "4            0         0        0      12    2008         8              4   \n",
       "\n",
       "   SalePrice  \n",
       "0     208500  \n",
       "1     181500  \n",
       "2     223500  \n",
       "3     140000  \n",
       "4     250000  \n",
       "\n",
       "[5 rows x 75 columns]"
      ]
     },
     "execution_count": 169,
     "metadata": {},
     "output_type": "execute_result"
    }
   ],
   "source": [
    "train_df.head()"
   ]
  },
  {
   "cell_type": "code",
   "execution_count": 150,
   "metadata": {},
   "outputs": [],
   "source": [
    "from sklearn import svm\n",
    "from sklearn.linear_model import LogisticRegression,LinearRegression\n",
    "from sklearn.metrics import classification_report, confusion_matrix,r2_score\n",
    "from sklearn.model_selection import GridSearchCV"
   ]
  },
  {
   "cell_type": "code",
   "execution_count": 176,
   "metadata": {},
   "outputs": [],
   "source": [
    "X = train_df.drop(['SalePrice'],1)\n",
    "y = train_df['SalePrice']"
   ]
  },
  {
   "cell_type": "code",
   "execution_count": 177,
   "metadata": {},
   "outputs": [],
   "source": [
    "X_train, X_test, y_train, y_test = train_test_split(X, y, test_size=0.3)"
   ]
  },
  {
   "cell_type": "code",
   "execution_count": 178,
   "metadata": {},
   "outputs": [
    {
     "data": {
      "text/plain": [
       "array([[-1.25321503e-01,  1.51484918e+00,  6.26931205e-01, ...,\n",
       "        -6.33142115e-01,  3.24874468e-01,  2.33028217e-01],\n",
       "       [-1.25321503e-01, -4.78922628e+00, -4.20345179e-01, ...,\n",
       "         1.59131975e+00, -5.01953931e+00, -3.14106630e+00],\n",
       "       [-1.25321503e-01, -6.11696820e-02, -4.20345179e-01, ...,\n",
       "         8.49832464e-01,  3.24874468e-01,  2.33028217e-01],\n",
       "       ...,\n",
       "       [ 6.14779419e-01, -6.11696820e-02,  1.00395070e+00, ...,\n",
       "         1.59131975e+00,  3.24874468e-01, -3.14106630e+00],\n",
       "       [ 7.38129573e-01, -6.11696820e-02, -1.68998847e-01, ...,\n",
       "         1.08345175e-01,  3.24874468e-01,  2.33028217e-01],\n",
       "       [-8.65422426e-01,  1.51484918e+00, -1.43462518e-03, ...,\n",
       "         1.08345175e-01,  3.24874468e-01,  2.33028217e-01]])"
      ]
     },
     "execution_count": 178,
     "metadata": {},
     "output_type": "execute_result"
    }
   ],
   "source": [
    "sc = StandardScaler()\n",
    "sc.fit_transform(X_train)\n",
    "sc.fit_transform(X_test)"
   ]
  },
  {
   "cell_type": "code",
   "execution_count": 179,
   "metadata": {},
   "outputs": [
    {
     "data": {
      "text/plain": [
       "LinearRegression(copy_X=True, fit_intercept=True, n_jobs=None, normalize=True)"
      ]
     },
     "execution_count": 179,
     "metadata": {},
     "output_type": "execute_result"
    }
   ],
   "source": [
    "linalg = LinearRegression(normalize=True)\n",
    "linalg.fit(X_train,y_train)"
   ]
  },
  {
   "cell_type": "code",
   "execution_count": 180,
   "metadata": {},
   "outputs": [],
   "source": [
    "pred = linalg.predict(X_test)"
   ]
  },
  {
   "cell_type": "code",
   "execution_count": 181,
   "metadata": {},
   "outputs": [
    {
     "data": {
      "text/plain": [
       "0.8454024725614648"
      ]
     },
     "execution_count": 181,
     "metadata": {},
     "output_type": "execute_result"
    }
   ],
   "source": [
    "r2_score(y_test,pred)"
   ]
  },
  {
   "cell_type": "code",
   "execution_count": 153,
   "metadata": {},
   "outputs": [
    {
     "data": {
      "text/plain": [
       "{'copy_X': True, 'fit_intercept': False, 'normalize': True}"
      ]
     },
     "execution_count": 153,
     "metadata": {},
     "output_type": "execute_result"
    }
   ],
   "source": [
    "parameters = {'fit_intercept':[True,False], 'normalize':[True,False], 'copy_X':[True, False]}\n",
    "grid = GridSearchCV(linalg,parameters, cv=None)\n",
    "grid.fit(X_train, y_train)\n",
    "grid.best_params_\n"
   ]
  },
  {
   "cell_type": "code",
   "execution_count": 137,
   "metadata": {},
   "outputs": [],
   "source": [
    "# logmodel = LogisticRegression()\n",
    "# logmodel.fit(X_train, y_train)\n",
    "\n",
    "# predictions = logmodel.predict(X_test)\n",
    "# r2_score(y_test,predictions)"
   ]
  },
  {
   "cell_type": "code",
   "execution_count": 121,
   "metadata": {},
   "outputs": [],
   "source": [
    "# print(classification_report(y_test,predictions))"
   ]
  },
  {
   "cell_type": "code",
   "execution_count": null,
   "metadata": {},
   "outputs": [],
   "source": []
  },
  {
   "cell_type": "code",
   "execution_count": 164,
   "metadata": {},
   "outputs": [],
   "source": [
    "test_obj_col = []\n",
    "for colu in test_df:\n",
    "    if test_df[colu].dtypes == 'object':\n",
    "        test_obj_col.append(colu)"
   ]
  },
  {
   "cell_type": "code",
   "execution_count": 165,
   "metadata": {},
   "outputs": [],
   "source": [
    "for c in test_obj_col:\n",
    "    test_df[c] = label_encoder.fit_transform(test_df[c])"
   ]
  },
  {
   "cell_type": "code",
   "execution_count": 183,
   "metadata": {},
   "outputs": [
    {
     "data": {
      "text/html": [
       "<div>\n",
       "<style scoped>\n",
       "    .dataframe tbody tr th:only-of-type {\n",
       "        vertical-align: middle;\n",
       "    }\n",
       "\n",
       "    .dataframe tbody tr th {\n",
       "        vertical-align: top;\n",
       "    }\n",
       "\n",
       "    .dataframe thead th {\n",
       "        text-align: right;\n",
       "    }\n",
       "</style>\n",
       "<table border=\"1\" class=\"dataframe\">\n",
       "  <thead>\n",
       "    <tr style=\"text-align: right;\">\n",
       "      <th></th>\n",
       "      <th>Id</th>\n",
       "      <th>MSSubClass</th>\n",
       "      <th>MSZoning</th>\n",
       "      <th>LotFrontage</th>\n",
       "      <th>LotArea</th>\n",
       "      <th>Street</th>\n",
       "      <th>LotShape</th>\n",
       "      <th>LandContour</th>\n",
       "      <th>Utilities</th>\n",
       "      <th>LotConfig</th>\n",
       "      <th>...</th>\n",
       "      <th>OpenPorchSF</th>\n",
       "      <th>EnclosedPorch</th>\n",
       "      <th>3SsnPorch</th>\n",
       "      <th>ScreenPorch</th>\n",
       "      <th>PoolArea</th>\n",
       "      <th>MiscVal</th>\n",
       "      <th>MoSold</th>\n",
       "      <th>YrSold</th>\n",
       "      <th>SaleType</th>\n",
       "      <th>SaleCondition</th>\n",
       "    </tr>\n",
       "  </thead>\n",
       "  <tbody>\n",
       "    <tr>\n",
       "      <th>0</th>\n",
       "      <td>1461</td>\n",
       "      <td>20</td>\n",
       "      <td>2</td>\n",
       "      <td>80.0</td>\n",
       "      <td>11622</td>\n",
       "      <td>1</td>\n",
       "      <td>3</td>\n",
       "      <td>3</td>\n",
       "      <td>0</td>\n",
       "      <td>4</td>\n",
       "      <td>...</td>\n",
       "      <td>0</td>\n",
       "      <td>0</td>\n",
       "      <td>0</td>\n",
       "      <td>120</td>\n",
       "      <td>0</td>\n",
       "      <td>0</td>\n",
       "      <td>6</td>\n",
       "      <td>2010</td>\n",
       "      <td>8</td>\n",
       "      <td>4</td>\n",
       "    </tr>\n",
       "    <tr>\n",
       "      <th>1</th>\n",
       "      <td>1462</td>\n",
       "      <td>20</td>\n",
       "      <td>3</td>\n",
       "      <td>81.0</td>\n",
       "      <td>14267</td>\n",
       "      <td>1</td>\n",
       "      <td>0</td>\n",
       "      <td>3</td>\n",
       "      <td>0</td>\n",
       "      <td>0</td>\n",
       "      <td>...</td>\n",
       "      <td>36</td>\n",
       "      <td>0</td>\n",
       "      <td>0</td>\n",
       "      <td>0</td>\n",
       "      <td>0</td>\n",
       "      <td>12500</td>\n",
       "      <td>6</td>\n",
       "      <td>2010</td>\n",
       "      <td>8</td>\n",
       "      <td>4</td>\n",
       "    </tr>\n",
       "    <tr>\n",
       "      <th>2</th>\n",
       "      <td>1463</td>\n",
       "      <td>60</td>\n",
       "      <td>3</td>\n",
       "      <td>74.0</td>\n",
       "      <td>13830</td>\n",
       "      <td>1</td>\n",
       "      <td>0</td>\n",
       "      <td>3</td>\n",
       "      <td>0</td>\n",
       "      <td>4</td>\n",
       "      <td>...</td>\n",
       "      <td>34</td>\n",
       "      <td>0</td>\n",
       "      <td>0</td>\n",
       "      <td>0</td>\n",
       "      <td>0</td>\n",
       "      <td>0</td>\n",
       "      <td>3</td>\n",
       "      <td>2010</td>\n",
       "      <td>8</td>\n",
       "      <td>4</td>\n",
       "    </tr>\n",
       "    <tr>\n",
       "      <th>3</th>\n",
       "      <td>1464</td>\n",
       "      <td>60</td>\n",
       "      <td>3</td>\n",
       "      <td>78.0</td>\n",
       "      <td>9978</td>\n",
       "      <td>1</td>\n",
       "      <td>0</td>\n",
       "      <td>3</td>\n",
       "      <td>0</td>\n",
       "      <td>4</td>\n",
       "      <td>...</td>\n",
       "      <td>36</td>\n",
       "      <td>0</td>\n",
       "      <td>0</td>\n",
       "      <td>0</td>\n",
       "      <td>0</td>\n",
       "      <td>0</td>\n",
       "      <td>6</td>\n",
       "      <td>2010</td>\n",
       "      <td>8</td>\n",
       "      <td>4</td>\n",
       "    </tr>\n",
       "    <tr>\n",
       "      <th>4</th>\n",
       "      <td>1465</td>\n",
       "      <td>120</td>\n",
       "      <td>3</td>\n",
       "      <td>43.0</td>\n",
       "      <td>5005</td>\n",
       "      <td>1</td>\n",
       "      <td>0</td>\n",
       "      <td>1</td>\n",
       "      <td>0</td>\n",
       "      <td>4</td>\n",
       "      <td>...</td>\n",
       "      <td>82</td>\n",
       "      <td>0</td>\n",
       "      <td>0</td>\n",
       "      <td>144</td>\n",
       "      <td>0</td>\n",
       "      <td>0</td>\n",
       "      <td>1</td>\n",
       "      <td>2010</td>\n",
       "      <td>8</td>\n",
       "      <td>4</td>\n",
       "    </tr>\n",
       "  </tbody>\n",
       "</table>\n",
       "<p>5 rows × 75 columns</p>\n",
       "</div>"
      ],
      "text/plain": [
       "     Id  MSSubClass  MSZoning  LotFrontage  LotArea  Street  LotShape  \\\n",
       "0  1461          20         2         80.0    11622       1         3   \n",
       "1  1462          20         3         81.0    14267       1         0   \n",
       "2  1463          60         3         74.0    13830       1         0   \n",
       "3  1464          60         3         78.0     9978       1         0   \n",
       "4  1465         120         3         43.0     5005       1         0   \n",
       "\n",
       "   LandContour  Utilities  LotConfig  ...  OpenPorchSF  EnclosedPorch  \\\n",
       "0            3          0          4  ...            0              0   \n",
       "1            3          0          0  ...           36              0   \n",
       "2            3          0          4  ...           34              0   \n",
       "3            3          0          4  ...           36              0   \n",
       "4            1          0          4  ...           82              0   \n",
       "\n",
       "   3SsnPorch  ScreenPorch  PoolArea  MiscVal  MoSold  YrSold  SaleType  \\\n",
       "0          0          120         0        0       6    2010         8   \n",
       "1          0            0         0    12500       6    2010         8   \n",
       "2          0            0         0        0       3    2010         8   \n",
       "3          0            0         0        0       6    2010         8   \n",
       "4          0          144         0        0       1    2010         8   \n",
       "\n",
       "   SaleCondition  \n",
       "0              4  \n",
       "1              4  \n",
       "2              4  \n",
       "3              4  \n",
       "4              4  \n",
       "\n",
       "[5 rows x 75 columns]"
      ]
     },
     "execution_count": 183,
     "metadata": {},
     "output_type": "execute_result"
    }
   ],
   "source": [
    "test_df.head()"
   ]
  },
  {
   "cell_type": "code",
   "execution_count": 188,
   "metadata": {},
   "outputs": [],
   "source": [
    "preds = test_df.drop(['Id'],1)\n",
    "sc.fit_transform(preds)\n",
    "prediction = linalg.predict(preds)"
   ]
  },
  {
   "cell_type": "code",
   "execution_count": 189,
   "metadata": {},
   "outputs": [],
   "source": [
    "submission = pd.DataFrame({\n",
    "        \"Id\": test_df[\"Id\"],\n",
    "        \"SalePrice\": prediction\n",
    "    })"
   ]
  },
  {
   "cell_type": "code",
   "execution_count": 190,
   "metadata": {},
   "outputs": [
    {
     "data": {
      "text/html": [
       "<div>\n",
       "<style scoped>\n",
       "    .dataframe tbody tr th:only-of-type {\n",
       "        vertical-align: middle;\n",
       "    }\n",
       "\n",
       "    .dataframe tbody tr th {\n",
       "        vertical-align: top;\n",
       "    }\n",
       "\n",
       "    .dataframe thead th {\n",
       "        text-align: right;\n",
       "    }\n",
       "</style>\n",
       "<table border=\"1\" class=\"dataframe\">\n",
       "  <thead>\n",
       "    <tr style=\"text-align: right;\">\n",
       "      <th></th>\n",
       "      <th>Id</th>\n",
       "      <th>SalePrice</th>\n",
       "    </tr>\n",
       "  </thead>\n",
       "  <tbody>\n",
       "    <tr>\n",
       "      <th>0</th>\n",
       "      <td>1461</td>\n",
       "      <td>106214.735143</td>\n",
       "    </tr>\n",
       "    <tr>\n",
       "      <th>1</th>\n",
       "      <td>1462</td>\n",
       "      <td>138208.123751</td>\n",
       "    </tr>\n",
       "    <tr>\n",
       "      <th>2</th>\n",
       "      <td>1463</td>\n",
       "      <td>168154.469041</td>\n",
       "    </tr>\n",
       "    <tr>\n",
       "      <th>3</th>\n",
       "      <td>1464</td>\n",
       "      <td>188335.137562</td>\n",
       "    </tr>\n",
       "    <tr>\n",
       "      <th>4</th>\n",
       "      <td>1465</td>\n",
       "      <td>189714.016086</td>\n",
       "    </tr>\n",
       "  </tbody>\n",
       "</table>\n",
       "</div>"
      ],
      "text/plain": [
       "     Id      SalePrice\n",
       "0  1461  106214.735143\n",
       "1  1462  138208.123751\n",
       "2  1463  168154.469041\n",
       "3  1464  188335.137562\n",
       "4  1465  189714.016086"
      ]
     },
     "execution_count": 190,
     "metadata": {},
     "output_type": "execute_result"
    }
   ],
   "source": [
    "submission.head()"
   ]
  },
  {
   "cell_type": "code",
   "execution_count": 158,
   "metadata": {},
   "outputs": [],
   "source": [
    "train_df = train_df.drop(['Id'],1)"
   ]
  },
  {
   "cell_type": "code",
   "execution_count": 191,
   "metadata": {},
   "outputs": [],
   "source": [
    "submission.to_csv('submission.csv', index=False)"
   ]
  },
  {
   "cell_type": "code",
   "execution_count": 168,
   "metadata": {},
   "outputs": [
    {
     "data": {
      "text/plain": [
       "(1459, 74)"
      ]
     },
     "execution_count": 168,
     "metadata": {},
     "output_type": "execute_result"
    }
   ],
   "source": [
    "preds.shape"
   ]
  },
  {
   "cell_type": "code",
   "execution_count": 182,
   "metadata": {},
   "outputs": [
    {
     "data": {
      "text/plain": [
       "(1022, 74)"
      ]
     },
     "execution_count": 182,
     "metadata": {},
     "output_type": "execute_result"
    }
   ],
   "source": [
    "X_train.shape"
   ]
  },
  {
   "cell_type": "code",
   "execution_count": null,
   "metadata": {},
   "outputs": [],
   "source": []
  }
 ],
 "metadata": {
  "kernelspec": {
   "display_name": "Python 3",
   "language": "python",
   "name": "python3"
  },
  "language_info": {
   "codemirror_mode": {
    "name": "ipython",
    "version": 3
   },
   "file_extension": ".py",
   "mimetype": "text/x-python",
   "name": "python",
   "nbconvert_exporter": "python",
   "pygments_lexer": "ipython3",
   "version": "3.7.6"
  }
 },
 "nbformat": 4,
 "nbformat_minor": 4
}
